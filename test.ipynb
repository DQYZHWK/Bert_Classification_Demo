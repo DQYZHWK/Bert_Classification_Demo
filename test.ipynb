{
 "cells": [
  {
   "cell_type": "code",
   "execution_count": null,
   "metadata": {},
   "outputs": [],
   "source": [
    "\n",
    "print([x.strip('\\n') for x in open(\n",
    "    \n",
    "            'THUCNews'+ '/data/class.txt').readlines()] )  "
   ]
  },
  {
   "cell_type": "code",
   "execution_count": null,
   "metadata": {},
   "outputs": [],
   "source": [
    "import torch\n",
    "import torch.nn as nn\n",
    "# from pytorch_pretrained_bert import BertModel, BertTokenizer\n",
    "from pytorch_pretrained import BertModel, BertTokenizer\n",
    "PAD, CLS = '[PAD]', '[CLS]'  # padding符号, bert中综合信息符号\n",
    "content=\"小米吃西瓜\"\n",
    "\n",
    "tolen=BertTokenizer.from_pretrained('./bert_pretrain')\n",
    "res=tolen.tokenize(content)\n",
    "res = [CLS] + res\n",
    "token_ids = tolen.convert_tokens_to_ids(res)\n",
    "print(res)\n",
    "print(token_ids)\n",
    "\n"
   ]
  },
  {
   "cell_type": "code",
   "execution_count": null,
   "metadata": {},
   "outputs": [],
   "source": [
    "# coding: UTF-8\n",
    "import torch\n",
    "from tqdm import tqdm\n",
    "import time\n",
    "from datetime import timedelta\n",
    "\n",
    "class MyIterater()"
   ]
  },
  {
   "cell_type": "code",
   "execution_count": null,
   "metadata": {},
   "outputs": [],
   "source": [
    "# 常见的可迭代对象\n",
    "iterables = [\n",
    "    \"123\",          # 字符串\n",
    "    [1,2,3],        # 列表\n",
    "    (1,2,3),        # 元组\n",
    "    {1:'a',2:'b'},  # 字典\n",
    "    {1,2,3}         # 集合\n",
    "]\n",
    "\n",
    "# for iterable in iterables:\n",
    "#     print(type(iterable))\n",
    "#     for x in iterable:\n",
    "#         print(x,end=',')\n",
    "#     print('')\n",
    "\n",
    "\n",
    "def common_attrs(*objs):\n",
    "    \"\"\"\n",
    "    计算对象之间的共同属性\n",
    "    :param objs:\n",
    "    :return:\n",
    "    \"\"\"\n",
    "    assert  len(objs) >0\n",
    "    attrs = set(dir(objs[0]))\n",
    "    for obj in objs[1:]:\n",
    "        print(obj)\n",
    "        attrs &= set(dir(obj))  # 取交集\n",
    "    attrs -= set(dir(object))   # 剔除基础对象的属性\n",
    "    return attrs\n",
    "\n",
    "iterable_common_attrs=common_attrs(*iterables)\n",
    "print(iterable_common_attrs)\n",
    "\n",
    "iterator = [iter(iterable) for iterable in iterables]\n",
    "\n",
    "# 计算迭代器的共同属性\n",
    "iterator_common_attrs = common_attrs(*iterator)\n",
    "\n",
    "print(iterator_common_attrs)"
   ]
  },
  {
   "cell_type": "code",
   "execution_count": 10,
   "metadata": {},
   "outputs": [
    {
     "name": "stdout",
     "output_type": "stream",
     "text": [
      "4\n",
      "[1, 2, 3, 4]\n",
      "\n",
      "\n",
      "4\n",
      "[5, 6, 7, 8]\n",
      "\n",
      "\n",
      "4\n",
      "[9, 0, 11, 22]\n",
      "\n",
      "\n",
      "4\n",
      "[33, 44, 55]\n",
      "\n",
      "\n",
      "4\n"
     ]
    }
   ],
   "source": [
    "batches=[1,2,3,4,5,6,7,8,9,0,11,22,33,44,55]\n",
    "\n",
    "batch_size=4\n",
    "\n",
    "class MyIterator(object):\n",
    "    def __init__(self, batches, batch_size):\n",
    "        self.batches = batches\n",
    "        self.batch_size = batch_size\n",
    "        self.num_batch_size = len(batches) // batch_size\n",
    "        self.len = len(batches)\n",
    "       \n",
    "        self.residue = False\n",
    "        if self.num_batch_size*self.batch_size  != self.len:\n",
    "            self.residue = True\n",
    "        self.index=0\n",
    "\n",
    "    def __next__(self):\n",
    "        print(self.__len__())\n",
    "        if(self.index<self.__len__()):\n",
    "            one_batch = self.batches[self.index*self.batch_size:min((self.index+1)*self.batch_size,self.len)]\n",
    "            self.index = self.index + 1\n",
    "            return one_batch\n",
    "        else:\n",
    "            self.index = 0\n",
    "            raise StopIteration\n",
    "\n",
    "    def __iter__(self):\n",
    "        return self\n",
    "    \n",
    "    def __len__(self):\n",
    "        if self.residue:\n",
    "            return self.num_batch_size+1\n",
    "        else:\n",
    "            return self.num_batch_size\n",
    "        \n",
    "it=MyIterator(batches, batch_size)\n",
    "\n",
    "\n",
    "for i in it:\n",
    "    print(i)\n",
    "    print(\"\\n\")\n",
    "\n"
   ]
  },
  {
   "cell_type": "code",
   "execution_count": null,
   "metadata": {},
   "outputs": [],
   "source": []
  }
 ],
 "metadata": {
  "kernelspec": {
   "display_name": "dzlnev",
   "language": "python",
   "name": "python3"
  },
  "language_info": {
   "codemirror_mode": {
    "name": "ipython",
    "version": 3
   },
   "file_extension": ".py",
   "mimetype": "text/x-python",
   "name": "python",
   "nbconvert_exporter": "python",
   "pygments_lexer": "ipython3",
   "version": "3.8.16"
  },
  "orig_nbformat": 4
 },
 "nbformat": 4,
 "nbformat_minor": 2
}
